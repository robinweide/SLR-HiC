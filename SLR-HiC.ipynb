{
 "cells": [
  {
   "cell_type": "code",
   "execution_count": 2,
   "metadata": {
    "collapsed": true
   },
   "outputs": [],
   "source": [
    "import re"
   ]
  },
  {
   "cell_type": "code",
   "execution_count": 7,
   "metadata": {
    "collapsed": true
   },
   "outputs": [],
   "source": [
    "def sequence_compare(seq_a, seq_b):\n",
    "    len1= len(seq_a)\n",
    "    len2= len(seq_b)\n",
    "    matches = 0\n",
    "    for pos in range (0,min(len1,len2)) :\n",
    "          if seq_a[pos] == seq_b[pos]:\n",
    "              matches += 1\n",
    "    return(float(matches)/min(len1,len2))"
   ]
  },
  {
   "cell_type": "code",
   "execution_count": 4,
   "metadata": {
    "collapsed": false,
    "scrolled": false
   },
   "outputs": [],
   "source": [
    "samInput = open('/Users/robin/GitHub/SLR-HiC/data/BC001_sorted.sam','r')\n",
    "prime5 = {} # key = chr, val = [soft clipped, rest]\n",
    "prime3 = {}\n",
    "for e,line in enumerate(samInput):\n",
    "    fields = line.rstrip().split(\"\\t\")\n",
    "    cigar = fields[5]\n",
    "    seq = ''\n",
    "    S5 = True # if softclipped is 5': true, if softclipped is 3': false\n",
    "    GATCfound = False\n",
    "    seq2 = ''\n",
    "    if \"S\" in cigar:\n",
    "        S = re.split('(\\d+)',cigar)\n",
    "        S = filter(None, S)\n",
    "        idx = S.index(\"S\")\n",
    "        if idx == 1:\n",
    "            se = fields[9][   0  :  int(S[0])+4   ]\n",
    "            if 'GATC' in se:\n",
    "                GATCstart = se.index('GATC')\n",
    "                seq = se[:GATCstart+4]\n",
    "                GATCfound = True\n",
    "                seq2 = fields[9][    int(S[0]) :   ]\n",
    "        elif idx == len(S)-1:\n",
    "            S5 = False\n",
    "            se = fields[9][((len(fields[9]))-int(S[len(S)-2]))-4:(len(fields[9]))] \n",
    "            if 'GATC' in se:\n",
    "                GATCstart = se.index('GATC')\n",
    "                seq = se[GATCstart:]\n",
    "                GATCfound = True\n",
    "                seq2 = fields[9][     : ((len(fields[9]))-int(S[len(S)-2]))  ]\n",
    "        if GATCfound == True and len(seq) > 6 and S5 == True:\n",
    "            span = \"-\".join([fields[3],str(int(fields[3])+ len(fields[9]))]) # could be on gatc pos, but doesn't matter with SE65bp\n",
    "            prime5[\":\".join([fields[2],str(span)])] = [seq,seq2]\n",
    "        elif GATCfound == True and len(seq) > 6 and S5 != True:\n",
    "            span = \"-\".join([fields[3],str(int(fields[3])+ len(fields[9]))]) # could be on gatc pos, but doesn't matter with SE65bp\n",
    "            prime3[\":\".join([fields[2],str(span)])] = [seq,seq2]"
   ]
  },
  {
   "cell_type": "code",
   "execution_count": 6,
   "metadata": {
    "collapsed": false
   },
   "outputs": [
    {
     "name": "stdout",
     "output_type": "stream",
     "text": [
      "['GATCGGTCTGTAGTGATTT', 'CGATAGAATTGTACTGACATGGTTTCCATAGTTTATGCATTAGAATGATC']\n"
     ]
    }
   ],
   "source": [
    "import pprint\n",
    "pprint.pprint(prime3['chr11:62112994-62113059'])"
   ]
  },
  {
   "cell_type": "code",
   "execution_count": 8,
   "metadata": {
    "collapsed": false
   },
   "outputs": [
    {
     "name": "stdout",
     "output_type": "stream",
     "text": [
      "chr2:60361144-60361209 ['GATCTAAT', 'TTATTAATGTCTTACGGTTAAACACATCCTAAATTTACCTGAGGAGGCTCAAGAGATGATC']\n",
      "chr1:9414301-9414366 ['TTATTGATC', 'GATCTAAGGGTTTGCAGCTAGATTGGTGTTTTACATGTCTCCTTTGGTAGCATGCAGAAT']\n",
      "===\n",
      "chr2:60361144-60361209 ['GATCTAAT', 'TTATTAATGTCTTACGGTTAAACACATCCTAAATTTACCTGAGGAGGCTCAAGAGATGATC']\n",
      "chr12:9490565-9490630 ['TTTTGATC', 'GATCTTATACATATAGAGAGATCTTCCTTCCTTTACTGGGACCCTTGGCACTGTCCACTGT']\n",
      "===\n",
      "chr8:120688411-120688476 ['GATCCTT', 'TTATAACCAAAAGTTTCTGATATCCCGAAAAACTGTATCTATTGTGTGTATTGATTGGGATC']\n",
      "chr3:4384221-4384286 ['CTATAGATC', 'GATCCTTAAAAGCAAAGAACCAGACAGGGTCAGGTAGATGGGCAAGTAAAAGGGACAAGA']\n",
      "===\n",
      "chr9:35125113-35125178 ['GATCATTA', 'TGTCTTAGTCAATAGCCTATCATTTTTCATCTTTGACCTGGTGCTTTGGTCTCCCTGGATC']\n",
      "chr1:78053928-78053993 ['TGTAGATC', 'GATCATAATTCCAAAACCTTTCCCACTGCTAAAAGCAACCCAAATTTTATTCATTCTTAGC']\n",
      "===\n",
      "chr4:10771775-10771840 ['GATCAGTGC', 'CTGTGTTTCAACTTCCACACCTGTTGGTTTGGCTCTCTCCTCTGGATTTGGAGAAAGATC']\n",
      "chr17:30776650-30776715 ['CTGGGGATC', 'CATTAGTCCAGGGTGGAAGTCAGCTTATTAGAGGGCT']\n",
      "===\n",
      "chr2:163216235-163216300 ['GATCCAA', 'GGTAGAGAATTGCAGTGTATGTAAAATACACATCTGGCTGTGGAGTAGCAGCCATGAAGATC']\n",
      "chr3:114532628-114532693 ['AGTGGAGGATC', 'GATCCAAAACAATTGCAGAACAAAATTCTTGGAACTGTTGCTCAGCCCTCTGTTTTTC']\n",
      "===\n",
      "chr9:83250408-83250473 ['GATCAAGTG', 'AGACCATGCGTGTTATCCTTAGGGTGTTGCATGCAGGCCTCAGGCTCTACACCTACGATC']\n",
      "chr11:105970366-105970431 ['AGAGATC', 'GATCCAGTGTCCCTGGCCTCAAAATATACCCATATGCACATACCACATACAAAAATGTATAC']\n",
      "===\n",
      "chr5:137569529-137569594 ['GATCAGAGG', 'AGCACACACAGACACTACCCTGCTTCTCTTATCTCCAAACTTAAATTACTGGAGCTGATC']\n",
      "chr15:59814925-59814990 ['ACCAGATC', 'GATCATAGGCCCTTGAAGGTGGGGACAGCAAAATAATAATAATAATAATCCCATATATTTC']\n",
      "===\n",
      "chr14:13040513-13040578 ['GATCCATACC', 'AAGTCTGTTAGCATCCATCCTCACCTGTTTTTTTTATTGTTGGTGCTGTTTTTAAGATC']\n",
      "chr7:136033802-136033867 ['ATGTGATC', 'GATCCATCCCATCTGCAGATACCAAACCCCCACATTCTTGCTGATGCCAAGAAGAGCTTGC']\n",
      "===\n",
      "chr1:43894029-43894094 ['GATCCTGC', 'CCTAAATGAGTTTTACTGTTTGTCCTAATTTGTTTTCTATGACGTGGTGAATGTCATGATC']\n",
      "chr2:154222670-154222735 ['CCTTGATC', 'GATCCTTCCTTTAATTGTTTGTTTGTTTGTTTGTTTGGGGGTATGGGGCATGGTTTTGGTT']\n",
      "===\n",
      "chr2:176124101-176124166 ['GATCCTCTT', 'GAAAAAAAATGGTTAAAACTTTACCTGCTAAATCACTCTCAGTTTGCACAACTGAGGATC']\n",
      "chr9:103932156-103932221 ['TAAAGATC', 'GATCATCTTTCTGTATTTTTATTGAATTCCCATTATGAGTTGTAGCGCAAAAATAGAGGTC']\n",
      "===\n",
      "chrX:138631320-138631385 ['GATCCCATAACAGATG', 'CCATGTAAATCACCATTCAAGCATCTCCAGTGGACAGCCTGCACAAGCAGATC']\n",
      "chr15:102215804-102215869 ['GCATGATC', 'GATCTCATTACAGATGGTTGTGAGACACCATGTGGTTGCTGGGATTTGAACTCAGGACCTT']\n",
      "===\n",
      "chr8:44192482-44192547 ['GATCCTTC', 'CCTTTAATTCAACTCAAAAGGCAAAGACAAGTGGATCTCTGAATTCTGGGCCAGCATGATC']\n",
      "chr2:154222670-154222735 ['CCTTGATC', 'GATCCTTCCTTTAATTGTTTGTTTGTTTGTTTGTTTGGGGGTATGGGGCATGGTTTTGGTT']\n",
      "===\n",
      "chr8:44192482-44192547 ['GATCCTTC', 'CCTTTAATTCAACTCAAAAGGCAAAGACAAGTGGATCTCTGAATTCTGGGCCAGCATGATC']\n",
      "chr9:94703211-94703276 ['CCTGATC', 'GATCCCTCAGCTTTCTCCAGGACTCAGAGTTGGGCCTGTGGGCCATCTTTATTTCTCTGTAG']\n",
      "===\n",
      "chr18:36336367-36336432 ['GATCATAG', 'GTCAACCTGGTCTACATAGGGAATTCCAAGACAGCCAGGGATACATATACGTCCAGAGATC']\n",
      "chr9:111935749-111935814 ['GTCTGATC', 'GATCATAGCTAAGAAGATAATAGATAAATAGATAGATACATAGATGATTGATAGATACATG']\n",
      "===\n",
      "chr18:36336367-36336432 ['GATCATAG', 'GTCAACCTGGTCTACATAGGGAATTCCAAGACAGCCAGGGATACATATACGTCCAGAGATC']\n",
      "chr11:54020209-54020274 ['GTCACGATC', 'GATCTTAGTTATGCTTGTTCTCTGTTTAAACCTAAACCCTGGGTCAGGACTCTGTGGATG']\n",
      "===\n",
      "chr18:36336367-36336432 ['GATCATAG', 'GTCAACCTGGTCTACATAGGGAATTCCAAGACAGCCAGGGATACATATACGTCCAGAGATC']\n",
      "chr12:16334864-16334929 ['GTGAAGATC', 'GATCATGGCTCTCTGGTTCAACTGTCTTTCTTCCCCAGCTTTTCAGAATATGCTTTCCAT']\n",
      "===\n",
      "chr5:127544448-127544513 ['GATCTCTGAGTTA', 'ATCATAGACTCTGACAACACAATCTCCCCACTTTGGCTGTGGTATGTTCATTGATC']\n",
      "chr11:3243050-3243115 ['AACAGATC', 'GATCACTGAGTTGTTAGAATCGGGACGTCAAGGTCACCATGACTATCTTAACGTTGAAGCC']\n",
      "===\n"
     ]
    },
    {
     "ename": "KeyboardInterrupt",
     "evalue": "",
     "output_type": "error",
     "traceback": [
      "\u001b[0;31m---------------------------------------------------------------------------\u001b[0m",
      "\u001b[0;31mKeyboardInterrupt\u001b[0m                         Traceback (most recent call last)",
      "\u001b[0;32m<ipython-input-8-d2fe7717ca79>\u001b[0m in \u001b[0;36m<module>\u001b[0;34m()\u001b[0m\n\u001b[1;32m      1\u001b[0m \u001b[0;32mfor\u001b[0m \u001b[0mk3\u001b[0m\u001b[0;34m,\u001b[0m\u001b[0;34m(\u001b[0m\u001b[0ms3\u001b[0m\u001b[0;34m,\u001b[0m\u001b[0mr3\u001b[0m\u001b[0;34m)\u001b[0m \u001b[0;32min\u001b[0m \u001b[0mprime3\u001b[0m\u001b[0;34m.\u001b[0m\u001b[0mitems\u001b[0m\u001b[0;34m(\u001b[0m\u001b[0;34m)\u001b[0m\u001b[0;34m:\u001b[0m\u001b[0;34m\u001b[0m\u001b[0m\n\u001b[1;32m      2\u001b[0m     \u001b[0;32mfor\u001b[0m \u001b[0mk5\u001b[0m\u001b[0;34m,\u001b[0m\u001b[0;34m(\u001b[0m\u001b[0ms5\u001b[0m\u001b[0;34m,\u001b[0m\u001b[0mr5\u001b[0m\u001b[0;34m)\u001b[0m \u001b[0;32min\u001b[0m \u001b[0mprime5\u001b[0m\u001b[0;34m.\u001b[0m\u001b[0mitems\u001b[0m\u001b[0;34m(\u001b[0m\u001b[0;34m)\u001b[0m\u001b[0;34m:\u001b[0m\u001b[0;34m\u001b[0m\u001b[0m\n\u001b[0;32m----> 3\u001b[0;31m         \u001b[0mmatchS3\u001b[0m \u001b[0;34m=\u001b[0m \u001b[0msequence_compare\u001b[0m\u001b[0;34m(\u001b[0m\u001b[0ms3\u001b[0m\u001b[0;34m[\u001b[0m\u001b[0;36m4\u001b[0m\u001b[0;34m:\u001b[0m\u001b[0;34m]\u001b[0m\u001b[0;34m,\u001b[0m\u001b[0mr5\u001b[0m\u001b[0;34m[\u001b[0m\u001b[0;36m4\u001b[0m\u001b[0;34m:\u001b[0m\u001b[0;34m]\u001b[0m\u001b[0;34m)\u001b[0m\u001b[0;34m\u001b[0m\u001b[0m\n\u001b[0m\u001b[1;32m      4\u001b[0m         \u001b[0;32mif\u001b[0m \u001b[0mmatchS3\u001b[0m \u001b[0;34m>\u001b[0m \u001b[0;36m.7\u001b[0m\u001b[0;34m:\u001b[0m\u001b[0;34m\u001b[0m\u001b[0m\n\u001b[1;32m      5\u001b[0m             \u001b[0mmatchS5\u001b[0m \u001b[0;34m=\u001b[0m \u001b[0msequence_compare\u001b[0m\u001b[0;34m(\u001b[0m\u001b[0ms5\u001b[0m\u001b[0;34m[\u001b[0m\u001b[0;34m:\u001b[0m\u001b[0mlen\u001b[0m\u001b[0;34m(\u001b[0m\u001b[0ms5\u001b[0m\u001b[0;34m)\u001b[0m\u001b[0;34m-\u001b[0m\u001b[0;36m4\u001b[0m\u001b[0;34m]\u001b[0m\u001b[0;34m,\u001b[0m\u001b[0mr3\u001b[0m\u001b[0;34m[\u001b[0m\u001b[0;34m:\u001b[0m\u001b[0mlen\u001b[0m\u001b[0;34m(\u001b[0m\u001b[0mr3\u001b[0m\u001b[0;34m)\u001b[0m\u001b[0;34m-\u001b[0m\u001b[0;36m4\u001b[0m\u001b[0;34m]\u001b[0m\u001b[0;34m)\u001b[0m\u001b[0;34m\u001b[0m\u001b[0m\n",
      "\u001b[0;31mKeyboardInterrupt\u001b[0m: "
     ]
    }
   ],
   "source": [
    "for k3,(s3,r3) in prime3.items():\n",
    "    for k5,(s5,r5) in prime5.items():\n",
    "        matchS3 = sequence_compare(s3[4:],r5[4:])\n",
    "        if matchS3 > .7:\n",
    "            matchS5 = sequence_compare(s5[:len(s5)-4],r3[:len(r3)-4])\n",
    "            if matchS5 > .7:\n",
    "                print k3,prime3[k3]\n",
    "                print k5,prime5[k5]\n",
    "                print '==='"
   ]
  }
 ],
 "metadata": {
  "kernelspec": {
   "display_name": "Python 2",
   "language": "python",
   "name": "python2"
  },
  "language_info": {
   "codemirror_mode": {
    "name": "ipython",
    "version": 2
   },
   "file_extension": ".py",
   "mimetype": "text/x-python",
   "name": "python",
   "nbconvert_exporter": "python",
   "pygments_lexer": "ipython2",
   "version": "2.7.11"
  }
 },
 "nbformat": 4,
 "nbformat_minor": 0
}
