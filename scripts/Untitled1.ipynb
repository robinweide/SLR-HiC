{
 "cells": [
  {
   "cell_type": "code",
   "execution_count": null,
   "metadata": {
    "collapsed": false
   },
   "outputs": [],
   "source": [
    "\"\"\"\n",
    "Generate bed-file of re-sites\n",
    "\"\"\"\n",
    "\n",
    "fasta = '/Users/robin/Downloads/ucsc.hg19.fasta'\n",
    "from Bio import Restriction\n",
    "from Bio.Restriction import DpnII as restr \n",
    "from Bio import SeqIO\n",
    "import sys\n",
    "import os\n",
    "\n",
    "GATCsites.bed = ()\n",
    "parser = SeqIO.parse(fasta,'fasta')\n",
    "for chrom in enparser:\n",
    "    hits = restr.search(chrom.seq)\n",
    "    for hit in hits:\n",
    "        GATCsites.bed.append(chrom.name,\n",
    "                  str(hit),\n",
    "                  str(hit+3))\n",
    "        #print values"
   ]
  },
  {
   "cell_type": "code",
   "execution_count": null,
   "metadata": {
    "collapsed": true
   },
   "outputs": [],
   "source": [
    "GATCsites.bed"
   ]
  },
  {
   "cell_type": "code",
   "execution_count": null,
   "metadata": {
    "collapsed": true
   },
   "outputs": [],
   "source": []
  }
 ],
 "metadata": {
  "kernelspec": {
   "display_name": "Python 2",
   "language": "python",
   "name": "python2"
  },
  "language_info": {
   "codemirror_mode": {
    "name": "ipython",
    "version": 2
   },
   "file_extension": ".py",
   "mimetype": "text/x-python",
   "name": "python",
   "nbconvert_exporter": "python",
   "pygments_lexer": "ipython2",
   "version": "2.7.11"
  }
 },
 "nbformat": 4,
 "nbformat_minor": 0
}
