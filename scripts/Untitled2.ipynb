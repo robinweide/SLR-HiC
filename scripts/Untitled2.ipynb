{
 "cells": [
  {
   "cell_type": "code",
   "execution_count": 18,
   "metadata": {
    "collapsed": false
   },
   "outputs": [],
   "source": [
    "\"\"\"\n",
    "Generate bed-file of re-sites\n",
    "\"\"\"\n",
    "\n",
    "fasta = '/Users/robin/Downloads/mm9.fa'\n",
    "from Bio import Restriction\n",
    "from Bio.Restriction import DpnII as restr \n",
    "from Bio import SeqIO\n",
    "import sys\n",
    "import os\n",
    "\n",
    "GATCsites = []\n",
    "parser = SeqIO.parse(fasta,'fasta')\n",
    "for e,chrom in enumerate(parser):\n",
    "    hits = restr.search(chrom.seq)\n",
    "    for hit in hits:\n",
    "        GATCsites.append((chrom.name,\n",
    "                  str(hit),\n",
    "                  str(hit+3)))\n",
    "        #print values"
   ]
  },
  {
   "cell_type": "code",
   "execution_count": null,
   "metadata": {
    "collapsed": true
   },
   "outputs": [],
   "source": [
    "GATCsites"
   ]
  },
  {
   "cell_type": "code",
   "execution_count": 19,
   "metadata": {
    "collapsed": false
   },
   "outputs": [],
   "source": [
    "import re\n",
    "samInput = open('/Users/robin/GitHub/SLR-HiC/data/BC001_sorted.sam','r')\n",
    "\n",
    "#fqOut = open('/Users/robin/GitHub/SLR-HiC/data/BC001_sorted_softclipped.fq','w')\n",
    "\n",
    "for e,line in enumerate(samInput):\n",
    "    if 'XA:' in line: # this is a read we can use!\n",
    "        #print e\n",
    "        fields = line.rstrip().split(\"\\t\")\n",
    "        cigar = fields[5]\n",
    "        orientation = \"+\"\n",
    "        if 'S' not in cigar:\n",
    "            continue\n",
    "        if fields[1] == 16:\n",
    "            orientation = \"-\"\n",
    "        \n",
    "        for (c,a,b) in GATCsites:\n",
    "            if c == fields[2]:\n",
    "                if a>= int(fields[3])-4:\n",
    "                    if b <= (int(fields[3]) + 4 +len(fields[9])):\n",
    "                             print c,a,b,fields\n",
    "                elif a <= (int(fields[3]) + 4 +len(fields[9])):\n",
    "                    break\n",
    "        \n",
    "        #if len(qual) > 1:\n",
    "        #    header = str(\"@\") + \":\".join([fields[0],fields[2],fields[3]])\n",
    "        #    fqOut.write(header + \"\\n\")\n",
    "        #    fqOut.write( seq+ \"\\n\")\n",
    "        #    fqOut.write( \"+\"+ \"\\n\")\n",
    "        #    fqOut.write( qual+ \"\\n\")\n",
    "#fqOut.close()"
   ]
  },
  {
   "cell_type": "code",
   "execution_count": null,
   "metadata": {
    "collapsed": true
   },
   "outputs": [],
   "source": []
  }
 ],
 "metadata": {
  "kernelspec": {
   "display_name": "Python 2",
   "language": "python",
   "name": "python2"
  },
  "language_info": {
   "codemirror_mode": {
    "name": "ipython",
    "version": 2
   },
   "file_extension": ".py",
   "mimetype": "text/x-python",
   "name": "python",
   "nbconvert_exporter": "python",
   "pygments_lexer": "ipython2",
   "version": "2.7.11"
  }
 },
 "nbformat": 4,
 "nbformat_minor": 0
}
