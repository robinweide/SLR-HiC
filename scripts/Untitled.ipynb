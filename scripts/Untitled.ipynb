{
 "cells": [
  {
   "cell_type": "markdown",
   "metadata": {},
   "source": [
    "## protocol:\n",
    "* get cigar\n",
    "* get soft-clipped sequence incl gatc site\n",
    "* blat soft-clipped sequence"
   ]
  },
  {
   "cell_type": "raw",
   "metadata": {},
   "source": [
    "BC001_5351985   0       chr1    13897460        12      51M14S  *       0       0       GCAAAAAGTGATATTTTGACTTCTTCCTTGACAATTTGTATCCCCTTGATCAAAATGTGCCTTTG\n",
    "BCBBBGECFGBGCFGGGGBGFGGGGGGGGEFGGGGGGGGCGFDGEGGGDGGGGGGGGGGGGGGGB       \n",
    "NM:i:0  MD:Z:51 AS:i:51 XS:i:46 XA:Z:chr1,-70983333,14S51M,1;chr12,-48609394,14S51M,1;chr11,+108250827,51M14S,1;chr3,-125842"
   ]
  },
  {
   "cell_type": "code",
   "execution_count": 59,
   "metadata": {
    "collapsed": false
   },
   "outputs": [],
   "source": [
    "def getSoftSigar(cigar, fields):\n",
    "    seq = ''\n",
    "    qual = ''\n",
    "    S = re.split('(\\d+)',cigar)\n",
    "    S = filter(None, S)\n",
    "    idx = S.index(\"S\")\n",
    "    if idx == 1:\n",
    "        se = fields[9][   0  :  int(S[0])+4   ]\n",
    "        que = fields[10][   0  :  int(S[0])+4   ]\n",
    "        if 'GATC' in se:\n",
    "            GATCstart = se.index('GATC')\n",
    "            seq = se[:GATCstart+4]\n",
    "            qual = que[:GATCstart+4]\n",
    "    elif idx == len(S)-1:\n",
    "        S5 = False\n",
    "        se = fields[9][((len(fields[9]))-int(S[len(S)-2]))-4:(len(fields[9]))] \n",
    "        qua = fields[10][((len(fields[10]))-int(S[len(S)-2]))-4:(len(fields[10]))] \n",
    "        if 'GATC' in se:\n",
    "            GATCstart = se.index('GATC')\n",
    "            seq = se[GATCstart:]\n",
    "            qual = qua[GATCstart:]\n",
    "    return [seq,qual]\n",
    "\n",
    "def extractXAcigars(fields):\n",
    "    XA = []\n",
    "    for idx,entry in enumerate(fields):\n",
    "        if 'XA:' in entry:\n",
    "            XAlist = entry[5:].split(';')\n",
    "            for i in XAlist:\n",
    "                xa = i.split(',')\n",
    "                if len(xa) > 1:\n",
    "                    XA.append(xa)\n",
    "            XA = filter(None, XA)\n",
    "    return(XA)\n",
    "\n",
    "def ReverseComplement1(seq):\n",
    "    seq_dict = {'A':'T','T':'A','G':'C','C':'G'}\n",
    "    return \"\".join([seq_dict[base] for base in reversed(seq)])"
   ]
  },
  {
   "cell_type": "code",
   "execution_count": 73,
   "metadata": {
    "collapsed": false,
    "scrolled": false
   },
   "outputs": [],
   "source": [
    "import re\n",
    "samInput = open('/Users/robin/GitHub/SLR-HiC/data/BC001_sorted.sam','r')\n",
    "\n",
    "fqOut = open('/Users/robin/GitHub/SLR-HiC/data/BC001_sorted_softclipped.fq','w')\n",
    "\n",
    "for e,line in enumerate(samInput):\n",
    "    if 'XA:' in line: # this is a read we can use!\n",
    "        fields = line.rstrip().split(\"\\t\")\n",
    "        cigar = fields[5]\n",
    "        orientation = \"+\"\n",
    "        if 'S' not in cigar:\n",
    "            continue\n",
    "        if 'GATC' not in fields[9]:\n",
    "            continue\n",
    "        if fields[1] == 16:\n",
    "            orientation = \"-\"\n",
    "        seq,qual = getSoftSigar(cigar,fields)\n",
    "        if orientation == \"-\":\n",
    "            seq = ReverseComplement1(seq)\n",
    "        if len(qual) > 1:\n",
    "            header = str(\"@\") + \":\".join([fields[0],fields[2],fields[3]])\n",
    "            fqOut.write(header + \"\\n\")\n",
    "            fqOut.write( seq+ \"\\n\")\n",
    "            fqOut.write( \"+\"+ \"\\n\")\n",
    "            fqOut.write( qual+ \"\\n\")\n",
    "fqOut.close()"
   ]
  },
  {
   "cell_type": "code",
   "execution_count": null,
   "metadata": {
    "collapsed": true
   },
   "outputs": [],
   "source": []
  },
  {
   "cell_type": "code",
   "execution_count": null,
   "metadata": {
    "collapsed": true
   },
   "outputs": [],
   "source": []
  },
  {
   "cell_type": "code",
   "execution_count": null,
   "metadata": {
    "collapsed": true
   },
   "outputs": [],
   "source": []
  }
 ],
 "metadata": {
  "kernelspec": {
   "display_name": "Python 2",
   "language": "python",
   "name": "python2"
  },
  "language_info": {
   "codemirror_mode": {
    "name": "ipython",
    "version": 2
   },
   "file_extension": ".py",
   "mimetype": "text/x-python",
   "name": "python",
   "nbconvert_exporter": "python",
   "pygments_lexer": "ipython2",
   "version": "2.7.11"
  }
 },
 "nbformat": 4,
 "nbformat_minor": 0
}
